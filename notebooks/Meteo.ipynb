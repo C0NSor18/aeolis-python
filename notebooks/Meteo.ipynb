{
 "cells": [
  {
   "cell_type": "code",
   "execution_count": 49,
   "metadata": {},
   "outputs": [],
   "source": [
    "import csv\n",
    "import knmi\n",
    "import numpy as np\n",
    "\n",
    "# retrieve data from station 330 (Hoek van Holland)\n",
    "df = knmi.get_day_data_dataframe([330], start='20170101', end='20171231', \n",
    "                                 variables=['TG','RH','UG','Q','PG'])\n",
    "\n",
    "# drop station column\n",
    "df = df.drop('STN', axis=1)\n",
    "\n",
    "# convert units from KNMI to SI\n",
    "df = df.apply(lambda x: x * np.asarray([1e-1, 1e-1/24, 1e4, 1, 1e-2]), axis=1)\n",
    "\n",
    "# convert index from datatime to seconds\n",
    "df.index = (df.index - df.index[0]).total_seconds()\n",
    "\n",
    "# save file\n",
    "df.to_csv('meteo.txt', sep=' ', header=False, float_format='%0.4f', quoting=csv.QUOTE_NONE)"
   ]
  }
 ],
 "metadata": {
  "kernelspec": {
   "display_name": "Python 3",
   "language": "python",
   "name": "python3"
  },
  "language_info": {
   "codemirror_mode": {
    "name": "ipython",
    "version": 3
   },
   "file_extension": ".py",
   "mimetype": "text/x-python",
   "name": "python",
   "nbconvert_exporter": "python",
   "pygments_lexer": "ipython3",
   "version": "3.6.3"
  }
 },
 "nbformat": 4,
 "nbformat_minor": 2
}
